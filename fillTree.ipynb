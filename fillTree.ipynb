{
 "cells": [
  {
   "cell_type": "code",
   "execution_count": 1,
   "metadata": {
    "collapsed": true
   },
   "outputs": [],
   "source": [
    "from Bio import Phylo\n",
    "from Bio import SeqIO\n",
    "from Bio.Alphabet import IUPAC\n",
    "import os\n",
    "from Bio.Seq import Seq\n",
    "from Bio.SeqRecord import SeqRecord\n",
    "import shutil"
   ]
  },
  {
   "cell_type": "code",
   "execution_count": 2,
   "metadata": {
    "collapsed": true
   },
   "outputs": [],
   "source": [
    "fasta_path = \"input/orthoExon_fasta/\"\n",
    "output_path = \"output/\"\n",
    "tree_fn = \"input/tapir_ref_959genes.tre\""
   ]
  },
  {
   "cell_type": "code",
   "execution_count": 3,
   "metadata": {
    "collapsed": true
   },
   "outputs": [],
   "source": [
    "def closest_available_relative(sp, avail_set, terminals, tree):\n",
    "    pairs = ((terminals[sp], terminals[c]) for c in avail_set)\n",
    "    return sorted([(i[1].name,tree.distance(*i)) for i in pairs], key=lambda x: x[1])[0]"
   ]
  },
  {
   "cell_type": "code",
   "execution_count": 4,
   "metadata": {
    "collapsed": true
   },
   "outputs": [],
   "source": [
    "tree = Phylo.read(tree_fn, 'newick')\n",
    "tree.ladderize()   # Flip branches so deeper clades are displayed at top\n",
    "\n",
    "sp_list = [cl.name for cl in tree.get_terminals()]\n",
    "sp_set = set(sp_list)\n",
    "terminals = {l.name:l for l in tree.get_terminals()}"
   ]
  },
  {
   "cell_type": "code",
   "execution_count": 5,
   "metadata": {
    "collapsed": false,
    "scrolled": true
   },
   "outputs": [
    {
     "data": {
      "image/png": "[encoded data removed]",
      "text/plain": [
       "<matplotlib.figure.Figure at 0x104c86518>"
      ]
     },
     "metadata": {},
     "output_type": "display_data"
    }
   ],
   "source": [
    "Phylo.draw(tree)"
   ]
  },
  {
   "cell_type": "code",
   "execution_count": 6,
   "metadata": {
    "collapsed": false
   },
   "outputs": [],
   "source": [
    "# create handles for all .fasta files in fasta directory\n",
    "fasta_fn = {name.split('.')[0]: fasta_path + name for name in\n",
    "                    os.listdir(fasta_path) if\n",
    "                    ((\".fasta\" in name) and (\".fai\" not in name))}\n",
    "\n",
    "# read and parse fasta files for each species\n",
    "fasta = {}\n",
    "for ortho in fasta_fn.keys():\n",
    "    fasta[ortho] = {seq_record.id: seq_record\n",
    "                            for seq_record in SeqIO.parse(fasta_fn[ortho],\n",
    "                                                          \"fasta\", alphabet=IUPAC.ambiguous_dna)}"
   ]
  },
  {
   "cell_type": "code",
   "execution_count": 7,
   "metadata": {
    "collapsed": false
   },
   "outputs": [],
   "source": [
    "shutil.rmtree(output_path, ignore_errors=True)\n",
    "os.makedirs(output_path, exist_ok=True)\n",
    "\n",
    "for ortho in fasta.keys():\n",
    "    avail_set = set(fasta[ortho].keys())\n",
    "    missing_set = sp_set - avail_set\n",
    "    with open(output_path + ortho + \".padded.fasta\", \"wt\") as f:\n",
    "        for sp in sp_list:\n",
    "            if sp in missing_set:\n",
    "                sub_sp, distance = closest_available_relative(sp, avail_set, terminals, tree)\n",
    "                sub_seq = fasta[ortho][sub_sp].seq\n",
    "                description = \"subbed-missing-with_{} distance_{}\".format(sub_sp, distance)\n",
    "                seqRec = SeqRecord(sub_seq, id=sp, description=description)\n",
    "                f.write(seqRec.format(\"fasta\"))\n",
    "            else:\n",
    "                f.write(fasta[ortho][sp].format(\"fasta\"))"
   ]
  }
 ],
 "metadata": {
  "kernelspec": {
   "display_name": "Python 3",
   "language": "python",
   "name": "python3"
  },
  "language_info": {
   "codemirror_mode": {
    "name": "ipython",
    "version": 3
   },
   "file_extension": ".py",
   "mimetype": "text/x-python",
   "name": "python",
   "nbconvert_exporter": "python",
   "pygments_lexer": "ipython3",
   "version": "3.5.2"
  }
 },
 "nbformat": 4,
 "nbformat_minor": 2
}
